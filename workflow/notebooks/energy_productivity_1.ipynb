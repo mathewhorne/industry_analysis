{
 "cells": [
  {
   "cell_type": "markdown",
   "metadata": {},
   "source": [
    "### An exploration of energy productivity in heavy industry\n",
    "#### (Steel and cement initially)"
   ]
  },
  {
   "cell_type": "code",
   "execution_count": 1,
   "metadata": {},
   "outputs": [],
   "source": [
    "# Import relevant packages\n",
    "import pandas as pd\n",
    "import numpy as np\n",
    "import matplotlib.pyplot as plt\n",
    "import os\n",
    "from openpyxl import Workbook\n",
    "import xlsxwriter\n",
    "import pandas.io.formats.excel\n",
    "import glob\n",
    "from pandas import ExcelWriter \n",
    "import seaborn as sns"
   ]
  },
  {
   "cell_type": "code",
   "execution_count": 2,
   "metadata": {},
   "outputs": [],
   "source": [
    "# Path mapping to data folder\n",
    "data_folder = '../../data'\n",
    "\n",
    "# Read in industry production sheets\n",
    "industry_prod_sheets = list(pd.read_excel(data_folder + '/heavy_industry_production.xlsx', sheet_name = None).keys())\n",
    "\n",
    "# Now read in the data from those sheets and save in a consolidated dataframe\n",
    "ind_dfs_list = list()\n",
    "\n",
    "for sheet in industry_prod_sheets:\n",
    "    ind_dfs_list.append(pd.read_excel(data_folder + '/heavy_industry_production.xlsx', sheet_name = sheet))\n",
    "\n",
    "ind_prod = pd.concat(ind_dfs_list).reset_index(drop = True)"
   ]
  },
  {
   "cell_type": "code",
   "execution_count": 3,
   "metadata": {},
   "outputs": [],
   "source": [
    "# Now read in IEA data\n",
    "# First, in order to quickly extract sheet names for the for loop below\n",
    "IEA_temp = pd.ExcelFile(data_folder + '/IEA2021_link.xlsx')\n",
    "\n",
    "IEA_dfs_list = list()\n",
    "\n",
    "for sheet in IEA_temp.sheet_names[:-2]:\n",
    "    interim_df = pd.read_excel(data_folder + '/IEA2021_link.xlsx', sheet_name = sheet, header = 1, na_values = ['', '..', '-', 'x'])\n",
    "    interim_df['ECONOMY'] = sheet\n",
    "    interim_df['UNIT'] = 'TJ'\n",
    "    IEA_dfs_list.append(interim_df)\n",
    "\n",
    "IEA_df = pd.concat(IEA_dfs_list).reset_index(drop = True)"
   ]
  },
  {
   "cell_type": "code",
   "execution_count": 4,
   "metadata": {},
   "outputs": [],
   "source": [
    "# Now, reorder the datafram columns and only keep 1990 onwards\n",
    "IEA_df = IEA_df[['ECONOMY', 'FLOW', 'PRODUCT', 'UNIT'] + list(IEA_df.loc[:, 1990:2020])].reset_index(drop = True)"
   ]
  },
  {
   "cell_type": "code",
   "execution_count": 5,
   "metadata": {},
   "outputs": [],
   "source": [
    "# Clean up variable by removing spaces from the beginning of strings\n",
    "\n",
    "IEA_df['FLOW'] = IEA_df['FLOW'].str.lstrip()\n",
    "IEA_df['PRODUCT'] = IEA_df['PRODUCT'].str.lstrip()\n",
    "\n",
    "# Change heading names to lower case\n",
    "IEA_df = IEA_df.rename(columns = {'ECONOMY': 'economy', 'FLOW': 'flow', 'PRODUCT': 'product', 'UNIT': 'unit'})"
   ]
  },
  {
   "cell_type": "code",
   "execution_count": 6,
   "metadata": {},
   "outputs": [],
   "source": [
    "# Now just grab industry data \n",
    "\n",
    "industry_selection = ['Iron and steel', 'Chemical and petrochemical', 'Non-ferrous metals', 'Non-metallic minerals']\n",
    "\n",
    "IEA_industry = IEA_df[IEA_df['flow'].isin(industry_selection)].copy().reset_index(drop = True)"
   ]
  },
  {
   "cell_type": "code",
   "execution_count": 7,
   "metadata": {},
   "outputs": [],
   "source": [
    "# Transform dataframe to long format\n",
    "\n",
    "IEA_industry_long = IEA_industry.melt(id_vars = ['economy', 'flow', 'product', 'unit'], var_name = 'year', value_name = 'energy')"
   ]
  },
  {
   "cell_type": "code",
   "execution_count": 8,
   "metadata": {},
   "outputs": [],
   "source": [
    "# Now get industry production in long format\n",
    "\n",
    "ind_prod_long = ind_prod.melt(id_vars = ['economy', 'item', 'unit'], var_name = 'year', value_name = 'production')"
   ]
  },
  {
   "cell_type": "code",
   "execution_count": 21,
   "metadata": {},
   "outputs": [
    {
     "data": {
      "text/plain": [
       "<Figure size 432x504 with 0 Axes>"
      ]
     },
     "metadata": {},
     "output_type": "display_data"
    },
    {
     "data": {
      "image/png": "[encoded data removed]",
      "text/plain": [
       "<Figure size 144x144 with 2 Axes>"
      ]
     },
     "metadata": {
      "needs_background": "light"
     },
     "output_type": "display_data"
    }
   ],
   "source": [
    "Aus_steel = ind_prod_long[(ind_prod_long['economy'] == '01_AUS') & (ind_prod_long['item'] == 'cement_production')]\n",
    "Aus_cement = ind_prod_long[(ind_prod_long['economy'] == '01_AUS') & (ind_prod_long['item'] == 'steel_production')]\n",
    "# Now make some plots of production\n",
    "\n",
    "plt.style.use('_mpl-gallery')\n",
    "\n",
    "fig, [ax1, ax2] = plt.subplots(2, 1)\n",
    "\n",
    "ax1.plot('year', 'production', data = Aus_steel)\n",
    "ax2.plot('year', 'production', data = Aus_cement)\n",
    "plt.show()"
   ]
  },
  {
   "cell_type": "code",
   "execution_count": 10,
   "metadata": {},
   "outputs": [],
   "source": [
    "# # OSeMOSYS results files\n",
    "# OSeMOSYS_filenames = glob.glob(path_output + \"/*.xlsx\")\n",
    "\n",
    "#  [['fuel_code', 'item_code_new'] + list(ref_tradbio_1.loc[:, '2000':'2050'])].reset_index(drop = True)\n",
    "# # Reference filenames and net zero filenames\n",
    "\n",
    "# reference_filenames = list(filter(lambda k: 'reference' in k, OSeMOSYS_filenames))\n",
    "# netzero_filenames = list(filter(lambda y: 'net-zero' in y, OSeMOSYS_filenames))\n",
    "\n",
    "# # New 2018 data variable names \n",
    "\n",
    "# Mapping_sheets = list(pd.read_excel(path_mapping + '/OSeMOSYS_mapping_2021.xlsx', sheet_name = None).keys())[1:]\n",
    "\n",
    "# Mapping_file = pd.DataFrame()\n",
    "\n",
    "# for sheet in Mapping_sheets:\n",
    "#     interim_map = pd.read_excel(path_mapping + '/OSeMOSYS_mapping_2021.xlsx', sheet_name = sheet, skiprows = 1)\n",
    "#     Mapping_file = Mapping_file.append(interim_map).reset_index(drop = True)\n",
    "\n",
    "\n",
    "\n",
    "# # Read steel energy data results \n",
    "# steel_results = pd.DataFrame()\n",
    "\n",
    "# for economy in economies:\n",
    "#     interim_df = pd.read_excel('../data/input_data/1_energy_results/1_steel_2018_workbook_ref.xlsx', skiprows = 129, \n",
    "#                                 usecols = list(range(62, 120, 1)), nrows = 162, sheet_name = economy)                                       \n",
    "#     steel_results = steel_results.append(interim_df)\n",
    "\n",
    "# steel_results_numeric = steel_results.iloc[:,4:].copy()\n",
    "\n",
    "# non_zero = (steel_results_numeric != 0).any(axis = 1)\n",
    "\n",
    "# steel_results = steel_results.loc[non_zero].reset_index(drop = True)\n",
    "\n",
    "# steel_results.to_csv('../results/post_projection/1_steel_reference_scenario.csv', index = False)"
   ]
  }
 ],
 "metadata": {
  "interpreter": {
   "hash": "e65d2188d496eeb2cb6f6f5ec9cbffc53bebed2b3cf97ac519c82e55cd3fe5f9"
  },
  "kernelspec": {
   "display_name": "Python 3.10.2 64-bit (conda)",
   "language": "python",
   "name": "python3"
  },
  "language_info": {
   "codemirror_mode": {
    "name": "ipython",
    "version": 3
   },
   "file_extension": ".py",
   "mimetype": "text/x-python",
   "name": "python",
   "nbconvert_exporter": "python",
   "pygments_lexer": "ipython3",
   "version": "3.10.2"
  },
  "orig_nbformat": 4
 },
 "nbformat": 4,
 "nbformat_minor": 2
}
